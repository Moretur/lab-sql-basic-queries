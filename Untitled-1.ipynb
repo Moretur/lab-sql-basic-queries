{
 "cells": [
  {
   "cell_type": "code",
   "execution_count": null,
   "id": "ed5eb8a6",
   "metadata": {},
   "outputs": [],
   "source": [
    "word = 'Testing branches'"
   ]
  }
 ],
 "metadata": {
  "language_info": {
   "name": "python"
  }
 },
 "nbformat": 4,
 "nbformat_minor": 5
}
